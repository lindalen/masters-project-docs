{
 "cells": [
  {
   "cell_type": "code",
   "execution_count": 1,
   "id": "e54ac426",
   "metadata": {},
   "outputs": [],
   "source": [
    "!pip install -q -U bitsandbytes\n",
    "!pip install -q -U git+https://github.com/huggingface/transformers.git\n",
    "!pip install -q -U git+https://github.com/huggingface/peft.git\n",
    "!pip install -q -U git+https://github.com/huggingface/accelerate.git\n",
    "\n",
    "!pip install -qqq pyautogen modelz-llm huggingface_hub \n",
    "!pip install -q datasets loralib sentencepiece\n",
    "!pip -qqq install xformers einops\n",
    "!pip -qqq install langchain"
   ]
  },
  {
   "cell_type": "code",
   "execution_count": 3,
   "id": "2b0300a7",
   "metadata": {},
   "outputs": [
    {
     "name": "stdout",
     "output_type": "stream",
     "text": [
      "Collecting scipy\n",
      "  Using cached scipy-1.11.4-cp310-cp310-manylinux_2_17_x86_64.manylinux2014_x86_64.whl.metadata (60 kB)\n",
      "Requirement already satisfied: numpy<1.28.0,>=1.21.6 in /cluster/home/danlin/vit/lib/python3.10/site-packages (from scipy) (1.26.0)\n",
      "Using cached scipy-1.11.4-cp310-cp310-manylinux_2_17_x86_64.manylinux2014_x86_64.whl (36.4 MB)\n",
      "Installing collected packages: scipy\n",
      "Successfully installed scipy-1.11.4\n"
     ]
    }
   ],
   "source": [
    "!pip install scipy"
   ]
  },
  {
   "cell_type": "code",
   "execution_count": 1,
   "id": "88298685",
   "metadata": {},
   "outputs": [
    {
     "data": {
      "text/plain": [
       "'2.0.1'"
      ]
     },
     "execution_count": 1,
     "metadata": {},
     "output_type": "execute_result"
    }
   ],
   "source": [
    "import torch\n",
    "torch.__version__"
   ]
  },
  {
   "cell_type": "code",
   "execution_count": 16,
   "id": "11bdfb9d",
   "metadata": {},
   "outputs": [
    {
     "name": "stderr",
     "output_type": "stream",
     "text": [
      "Loading checkpoint shards: 100%|██████████████████| 2/2 [00:30<00:00, 15.28s/it]\n"
     ]
    }
   ],
   "source": [
    "from transformers import AutoModelForCausalLM, AutoTokenizer\n",
    "\n",
    "device = \"cuda\" # the device to load the model onto\n",
    "\n",
    "base_model = AutoModelForCausalLM.from_pretrained(\"mistralai/Mistral-7B-Instruct-v0.1\")\n",
    "base_tokenizer = AutoTokenizer.from_pretrained(\"mistralai/Mistral-7B-Instruct-v0.1\")"
   ]
  },
  {
   "cell_type": "code",
   "execution_count": null,
   "id": "2d6dc322",
   "metadata": {},
   "outputs": [],
   "source": [
    "# Load model directly\n",
    "from transformers import AutoTokenizer, AutoModelForCausalLM\n",
    "\n",
    "finetuned_tokenizer = AutoTokenizer.from_pretrained(\"hamxea/Mistral-7B-v0.1-activity-fine-tuned-v2\")\n",
    "finetuned_model = AutoModelForCausalLM.from_pretrained(\"hamxea/Mistral-7B-v0.1-activity-fine-tuned-v2\")"
   ]
  },
  {
   "cell_type": "code",
   "execution_count": null,
   "id": "248540d5",
   "metadata": {},
   "outputs": [],
   "source": [
    "def prompt_model(model, tokenizer, prompt):\n",
    "    messages = [\n",
    "        {\"role\": \"user\", \"content\": prompt}\n",
    "    ]\n",
    "\n",
    "    encodeds = tokenizer.apply_chat_template(messages, return_tensors=\"pt\")\n",
    "\n",
    "    model_inputs = encodeds.to(device)\n",
    "    model.to(device)\n",
    "\n",
    "    generated_ids = model.generate(model_inputs, max_new_tokens=256, do_sample=True)\n",
    "    decoded = tokenizer.batch_decode(generated_ids)\n",
    "    print(decoded[0])"
   ]
  },
  {
   "cell_type": "code",
   "execution_count": null,
   "id": "174614a8",
   "metadata": {},
   "outputs": [],
   "source": [
    "#{\"role\": \"user\", \"content\": \"Tell me about the CERG institute at NTNU.\"}\n",
    "#{\"role\": \"user\", \"content\": \"Could HIIT help me live longer more than gentle exercise?\"}\n",
    "prompt = \"Could HIIT help me live longer more than gentle exercise?\"\n",
    "prompt = \"Tell me about the paper called Exercise-Training Intervention Studies in Competitive Swimming\""
   ]
  },
  {
   "cell_type": "code",
   "execution_count": null,
   "id": "c535ba72",
   "metadata": {},
   "outputs": [],
   "source": [
    "\n",
    "prompt_model(base_model, base_tokenizer, prompt)\n",
    "prompt_model(finetuned_model, finetuned_tokenizer, prompt)"
   ]
  },
  {
   "cell_type": "code",
   "execution_count": null,
   "id": "65cba4ee",
   "metadata": {},
   "outputs": [],
   "source": []
  }
 ],
 "metadata": {
  "kernelspec": {
   "display_name": "vit_kernel",
   "language": "python",
   "name": "vit_kernel"
  },
  "language_info": {
   "codemirror_mode": {
    "name": "ipython",
    "version": 3
   },
   "file_extension": ".py",
   "mimetype": "text/x-python",
   "name": "python",
   "nbconvert_exporter": "python",
   "pygments_lexer": "ipython3",
   "version": "3.10.13"
  }
 },
 "nbformat": 4,
 "nbformat_minor": 5
}
