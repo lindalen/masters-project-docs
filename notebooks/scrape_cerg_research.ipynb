{
 "cells": [
  {
   "cell_type": "code",
   "execution_count": 1,
   "metadata": {},
   "outputs": [],
   "source": [
    "import requests\n",
    "import matplotlib.pyplot as plt\n",
    "import re\n",
    "import os\n",
    "import PyPDF2\n",
    "from io import BytesIO\n",
    "from bs4 import BeautifulSoup\n",
    "from selenium import webdriver\n",
    "from urllib.parse import urlparse\n",
    "from urllib.parse import urljoin\n",
    "from selenium.webdriver.support.ui import WebDriverWait\n",
    "from selenium.webdriver.support import expected_conditions as EC\n",
    "from selenium.webdriver.common.by import By\n",
    "from selenium.webdriver.chrome.options import Options\n",
    "from selenium.webdriver.common.desired_capabilities import DesiredCapabilities\n",
    "from collections import Counter, defaultdict"
   ]
  },
  {
   "cell_type": "code",
   "execution_count": 2,
   "metadata": {},
   "outputs": [],
   "source": [
    "def sanitize_filename(filename):\n",
    "    # List of invalid characters for file names\n",
    "    invalid_chars = ['<', '>', ':', '\"', '/', '\\\\', '|', '?', '*']\n",
    "    for char in invalid_chars:\n",
    "        filename = filename.replace(char, '_')  # Replace invalid characters with underscore\n",
    "    return filename"
   ]
  },
  {
   "cell_type": "code",
   "execution_count": 3,
   "metadata": {},
   "outputs": [],
   "source": [
    "base_url = \"https://www.ntnu.no/cerg/publikasjoner/\" # 2023 studies are here\n",
    "years = range(2012, 2023)\n",
    "\n",
    "yearly_links = [f\"{base_url}{year}\" for year in years] + [base_url]"
   ]
  },
  {
   "cell_type": "code",
   "execution_count": 4,
   "metadata": {},
   "outputs": [
    {
     "name": "stdout",
     "output_type": "stream",
     "text": [
      "{'link': 'https://www.tandfonline.com/doi/full/10.3109/15412555.2012.745843', 'title': 'Aerobic exercise training improves right- and left ventricular systolic function in patients with COPD', 'year': '2012'}\n",
      "{'link': 'http://ntnu.no/cerg/publikasjoner/2012#2-13', 'title': 'Telomere Length and Long-Term Endurance Exercise: Does Exercise Training Affect Biological Age? A Pilot Study', 'year': '2012'}\n",
      "{'link': 'https://link.springer.com/article/10.2165%2F11630760-000000000-00000', 'title': 'Exercise-Training Intervention Studies in Competitive Swimming', 'year': '2012'}\n",
      "{'link': 'https://www.thieme-connect.com/products/ejournals/html/10.1055/s-0032-1316364', 'title': 'Recovery after an Intermittent Test', 'year': '2012'}\n",
      "{'link': 'https://journals.plos.org/plosone/article?id=10.1371/journal.pone.0050933', 'title': 'Insomnia and Endothelial Function – The HUNT 3 Fitness Study', 'year': '2012'}\n",
      "Link count: 299\n"
     ]
    }
   ],
   "source": [
    "# List to store the publication link objects\n",
    "publication_objects = []\n",
    "\n",
    "for yearly_link in yearly_links:\n",
    "    response = requests.get(yearly_link)\n",
    "    response.raise_for_status()\n",
    "    \n",
    "    soup = BeautifulSoup(response.text, 'html.parser')\n",
    "    \n",
    "    a_tags = soup.find_all('a', class_='ntnu-ibtn primary')\n",
    "    \n",
    "    for a_tag in a_tags:\n",
    "        link = a_tag['href']\n",
    "        \n",
    "        title_content = a_tag.contents[-1]\n",
    "        title = title_content.strip() if isinstance(title_content, str) else 'No Title Available'\n",
    "        \n",
    "        publication_object = {\n",
    "            'link': link,\n",
    "            'title': title,\n",
    "            'year': (yearly_link[-4:] if yearly_link[-4:].isdigit() else 2023)\n",
    "        }\n",
    "\n",
    "        publication_objects.append(publication_object)\n",
    "\n",
    "for pub_object in publication_objects[:5]:\n",
    "    print(pub_object)\n",
    "\n",
    "print(f\"Link count: {len(publication_objects)}\")"
   ]
  },
  {
   "cell_type": "code",
   "execution_count": 5,
   "metadata": {},
   "outputs": [
    {
     "name": "stdout",
     "output_type": "stream",
     "text": [
      "Link count: 298\n"
     ]
    }
   ],
   "source": [
    "# filter out non-links\n",
    "publication_objects = [pub for pub in publication_objects if pub[\"link\"].startswith(('http', 'https')) and ' ' not in pub[\"link\"]]\n",
    "print(f\"Link count: {len(publication_objects)}\")"
   ]
  },
  {
   "cell_type": "code",
   "execution_count": 6,
   "metadata": {},
   "outputs": [
    {
     "name": "stdout",
     "output_type": "stream",
     "text": [
      "Link count: 295\n"
     ]
    }
   ],
   "source": [
    "# List of domains to exclude\n",
    "excluded_domains = [\n",
    "    #'content.iospress.com',\n",
    "    #'downloads.hindawi.com',\n",
    "    #'vev.medisin.ntnu.no',\n",
    "    'thieme-connect.com', # needs login\n",
    "    #'mayoclinicproceedings.org', # paid\n",
    "    'ntnu.no/cerg/publikasjoner', # bad link\n",
    "    'insights.ovid.com', # login\n",
    "    #\"sciencedirect.com\",\n",
    "    #'nature.com', # paid\n",
    "]\n",
    "\n",
    "# Filtering out links from the excluded domains\n",
    "publication_objects = [\n",
    "    pub for pub in publication_objects \n",
    "    if not any(domain in pub['link'] for domain in excluded_domains)\n",
    "]\n",
    "\n",
    "# Displaying the updated count of links\n",
    "print(f\"Link count: {len(publication_objects)}\")\n"
   ]
  },
  {
   "cell_type": "code",
   "execution_count": 7,
   "metadata": {},
   "outputs": [],
   "source": [
    "# Organize publication_objects by domain\n",
    "publications_by_domain = defaultdict(list)\n",
    "for pub_object in publication_objects:\n",
    "    domain = urlparse(pub_object['link']).netloc\n",
    "    publications_by_domain[domain].append(pub_object)\n"
   ]
  },
  {
   "cell_type": "code",
   "execution_count": 8,
   "metadata": {},
   "outputs": [
    {
     "name": "stdout",
     "output_type": "stream",
     "text": [
      "Number of unique domains: 53\n"
     ]
    }
   ],
   "source": [
    "# Assume publication_objects is your original list of publication objects\n",
    "publication_links = [pub['link'] for pub in publication_objects]\n",
    "\n",
    "# Extract domains\n",
    "domains = [urlparse(link).netloc for link in publication_links]\n",
    "\n",
    "# Count unique domains\n",
    "unique_domains = set(domains)\n",
    "unique_domain_count = len(unique_domains)\n",
    "\n",
    "print(f\"Number of unique domains: {unique_domain_count}\")"
   ]
  },
  {
   "cell_type": "code",
   "execution_count": 9,
   "metadata": {},
   "outputs": [],
   "source": [
    "# Ensure the directory 'publications/' exists\n",
    "os.makedirs(os.path.join('..', 'data', 'publications'), exist_ok=True)\n",
    "\n",
    "# Updated Regex pattern to catch more variations of PDF links\n",
    "pdf_pattern = re.compile(r'(pdf|epdf)', re.IGNORECASE)"
   ]
  },
  {
   "cell_type": "code",
   "execution_count": 13,
   "metadata": {},
   "outputs": [],
   "source": [
    "driver = webdriver.Chrome()\n",
    "\n",
    "def generate_pdfs(domain, publication_objects):\n",
    "    success_count = 0\n",
    "    failed_links = []\n",
    "    corrupted_links = []\n",
    "\n",
    "    for pub_object in publication_objects:\n",
    "        link = pub_object['link']\n",
    "        pdf_links = []\n",
    "        \n",
    "        driver.get(link)\n",
    "        WebDriverWait(driver, 10).until(EC.presence_of_element_located((By.TAG_NAME, 'body')))\n",
    "\n",
    "        cookie_buttons = driver.find_elements(By.XPATH, \n",
    "            \"//button[\"\n",
    "                \"(contains(translate(text(), 'ABCDEFGHIJKLMNOPQRSTUVWXYZ', 'abcdefghijklmnopqrstuvwxyz'), 'accept') and \"\n",
    "                \"contains(translate(text(), 'ABCDEFGHIJKLMNOPQRSTUVWXYZ', 'abcdefghijklmnopqrstuvwxyz'), 'cookie')) or \"\n",
    "                \"(contains(translate(@value, 'ABCDEFGHIJKLMNOPQRSTUVWXYZ', 'abcdefghijklmnopqrstuvwxyz'), 'accept') and \"\n",
    "                \"contains(translate(@value, 'ABCDEFGHIJKLMNOPQRSTUVWXYZ', 'abcdefghijklmnopqrstuvwxyz'), 'cookie'))\"\n",
    "            \"]\"\n",
    "        )\n",
    "\n",
    "        if cookie_buttons:\n",
    "            for button in cookie_buttons:\n",
    "                button.click()\n",
    "\n",
    "        page_source = driver.page_source\n",
    "        \n",
    "        soup = BeautifulSoup(page_source, 'html.parser')\n",
    "        pdf_links = soup.find_all('a', href=True, string=pdf_pattern) + [a for a in soup.find_all('a', href=True) if pdf_pattern.search(a['href'])]\n",
    "        pdf_links = [a[\"href\"] for a in pdf_links]\n",
    "        \n",
    "        if not pdf_links:\n",
    "            # Attempt to find PDF links using Selenium, if BeautifulSoup fails\n",
    "            pdf_elements = driver.find_elements(By.PARTIAL_LINK_TEXT, '.pdf')\n",
    "            pdf_links = [element.get_attribute('href') for element in pdf_elements]\n",
    "        \n",
    "        if not pdf_links:\n",
    "            failed_links.append(link)\n",
    "            continue\n",
    "\n",
    "        for pdf_url in pdf_links:\n",
    "            if not pdf_url.startswith('http'):\n",
    "                pdf_url = urljoin(link, pdf_url)\n",
    "            \n",
    "            title_words = '_'.join(pub_object['title'].split(\" \")[:7])\n",
    "            title_shortened = sanitize_filename(title_words)\n",
    "            file_name = f\"{pub_object['year']}_{title_shortened}.pdf\"\n",
    "            file_path = os.path.join('..', 'data', 'publications', file_name)\n",
    "\n",
    "            # Use requests to download the PDF file\n",
    "            pdf_response = requests.get(pdf_url, stream=True)\n",
    "\n",
    "            if pdf_response.status_code != 200:\n",
    "                failed_links.append(pdf_url)\n",
    "                continue\n",
    "\n",
    "            with open(file_path, 'wb') as pdf_file:\n",
    "                for chunk in pdf_response.iter_content(chunk_size=8192):\n",
    "                    pdf_file.write(chunk)\n",
    "                    \n",
    "            try:\n",
    "                with open(file_path, 'rb') as pdf_file:\n",
    "                    PyPDF2.PdfReader(pdf_file)\n",
    "                success_count += 1 \n",
    "                break  \n",
    "            except PyPDF2.errors.PdfReadError:\n",
    "                os.remove(file_path) \n",
    "                corrupted_links.append(pdf_url)\n",
    "\n",
    "    print(f\"Results for {domain}: {success_count} successes, {len(corrupted_links)} corruptions, {len(failed_links)} failures.\")\n",
    "    return success_count, failed_links, corrupted_links\n"
   ]
  },
  {
   "cell_type": "code",
   "execution_count": 11,
   "metadata": {},
   "outputs": [],
   "source": [
    "def try_domain(domain, pub_by_domain):\n",
    "    pubs = pub_by_domain[domain]\n",
    "    success_count, failed_links, corrupted_links = generate_pdfs2(domain, pubs)\n",
    "\n",
    "    return {\n",
    "        'success_count': success_count,\n",
    "        'failure_count': len(failed_links),\n",
    "        'corruption_count': len(corrupted_links),\n",
    "        'failed_links': failed_links,\n",
    "        'corrupted_links': corrupted_links\n",
    "    }"
   ]
  },
  {
   "cell_type": "markdown",
   "metadata": {},
   "source": [
    "### FULL RUN"
   ]
  },
  {
   "cell_type": "code",
   "execution_count": 14,
   "metadata": {},
   "outputs": [
    {
     "name": "stdout",
     "output_type": "stream",
     "text": [
      "Results for www.tandfonline.com: 0 successes, 0 corruptions, 9 failures.\n",
      "Results for link.springer.com: 17 successes, 0 corruptions, 0 failures.\n",
      "Results for journals.plos.org: 26 successes, 0 corruptions, 1 failures.\n",
      "Results for erj.ersjournals.com: 3 successes, 2 corruptions, 0 failures.\n"
     ]
    },
    {
     "name": "stderr",
     "output_type": "stream",
     "text": [
      "incorrect startxref pointer(1)\n"
     ]
    },
    {
     "name": "stdout",
     "output_type": "stream",
     "text": [
      "Results for academic.oup.com: 2 successes, 6 corruptions, 21 failures.\n",
      "Results for journals.lww.com: 17 successes, 0 corruptions, 0 failures.\n",
      "Results for tidsskriftet.no: 2 successes, 0 corruptions, 0 failures.\n",
      "Results for www.ahajournals.org: 0 successes, 0 corruptions, 19 failures.\n",
      "Results for journals.sagepub.com: 0 successes, 2 corruptions, 4 failures.\n",
      "Results for onlinelibrary.wiley.com: 0 successes, 0 corruptions, 19 failures.\n",
      "Results for pubmed.ncbi.nlm.nih.gov: 0 successes, 0 corruptions, 5 failures.\n",
      "Results for www.sciencedirect.com: 0 successes, 0 corruptions, 60 failures.\n",
      "Results for journals.physiology.org: 0 successes, 2 corruptions, 13 failures.\n",
      "Results for www.ncbi.nlm.nih.gov: 0 successes, 0 corruptions, 60 failures.\n",
      "Results for respiratory-research.biomedcentral.com: 2 successes, 0 corruptions, 0 failures.\n",
      "Results for physoc.onlinelibrary.wiley.com: 0 successes, 0 corruptions, 7 failures.\n",
      "Results for journal.chestnet.org: 0 successes, 0 corruptions, 15 failures.\n",
      "Results for www.nature.com: 7 successes, 1 corruptions, 0 failures.\n",
      "Results for bjsm.bmj.com: 1 successes, 1 corruptions, 0 failures.\n",
      "Results for journals.humankinetics.com: 0 successes, 0 corruptions, 6 failures.\n",
      "Results for www.physiology.org: 0 successes, 0 corruptions, 2 failures.\n",
      "Results for pediatrics.aappublications.org: 1 successes, 1 corruptions, 1 failures.\n",
      "Results for nutritionj.biomedcentral.com: 1 successes, 0 corruptions, 1 failures.\n",
      "Results for bmcgeriatr.biomedcentral.com: 3 successes, 1 corruptions, 0 failures.\n",
      "Results for www.hoajonline.com: 1 successes, 0 corruptions, 0 failures.\n",
      "Results for www.hindawi.com: 1 successes, 0 corruptions, 0 failures.\n",
      "Results for bmjopensem.bmj.com: 2 successes, 2 corruptions, 0 failures.\n",
      "Results for bmcgenomics.biomedcentral.com: 1 successes, 0 corruptions, 0 failures.\n",
      "Results for www.pnas.org: 0 successes, 0 corruptions, 6 failures.\n",
      "Results for circres.ahajournals.org: 0 successes, 0 corruptions, 1 failures.\n",
      "Results for translational-medicine.biomedcentral.com: 1 successes, 0 corruptions, 0 failures.\n",
      "Results for www.jsams.org: 0 successes, 0 corruptions, 1 failures.\n",
      "Results for www.internationaljournalofcardiology.com: 0 successes, 0 corruptions, 50 failures.\n",
      "Results for circ.ahajournals.org: 0 successes, 0 corruptions, 1 failures.\n",
      "Results for rmdopen.bmj.com: 3 successes, 3 corruptions, 0 failures.\n",
      "Results for content.iospress.com: 0 successes, 0 corruptions, 1 failures.\n",
      "Results for www.mayoclinicproceedings.org: 0 successes, 0 corruptions, 88 failures.\n",
      "Results for www.frontiersin.org: 10 successes, 0 corruptions, 0 failures.\n",
      "Results for www.escardio.org: 0 successes, 0 corruptions, 1 failures.\n",
      "Results for downloads.hindawi.com: 0 successes, 0 corruptions, 1 failures.\n",
      "Results for www.thelancet.com: 0 successes, 1 corruptions, 34 failures.\n",
      "Results for ijbnpa.biomedcentral.com: 1 successes, 0 corruptions, 0 failures.\n",
      "Results for www.mdpi.com: 3 successes, 0 corruptions, 0 failures.\n",
      "Results for bmcpulmmed.biomedcentral.com: 1 successes, 0 corruptions, 0 failures.\n",
      "Results for www.bmj.com: 1 successes, 2 corruptions, 0 failures.\n",
      "Results for research.tees.ac.uk: 1 successes, 0 corruptions, 1 failures.\n",
      "Results for vev.medisin.ntnu.no: 1 successes, 0 corruptions, 0 failures.\n",
      "Results for www.science.org: 0 successes, 2 corruptions, 4 failures.\n",
      "Results for www.dovepress.com: 0 successes, 0 corruptions, 1 failures.\n",
      "Results for europepmc.org: 0 successes, 0 corruptions, 1 failures.\n",
      "Results for jamanetwork.com: 1 successes, 0 corruptions, 0 failures.\n",
      "Results for openheart.bmj.com: 2 successes, 2 corruptions, 0 failures.\n",
      "Results for www.aging-us.com: 2 successes, 0 corruptions, 0 failures.\n"
     ]
    }
   ],
   "source": [
    "results_dict = {}\n",
    "\n",
    "for domain, pubs in publications_by_domain.items():\n",
    "    success_count, failed_links, corrupted_links = generate_pdfs(domain, pubs)\n",
    "    \n",
    "    # Store the results in the results_dict\n",
    "    results_dict[domain] = {\n",
    "        'success_count': success_count,\n",
    "        'failure_count': len(failed_links),\n",
    "        'corruption_count': len(corrupted_links),\n",
    "        'failed_links': failed_links,\n",
    "        'corrupted_links': corrupted_links\n",
    "    }\n",
    "\n",
    "\n",
    "driver.quit()"
   ]
  },
  {
   "cell_type": "code",
   "execution_count": 17,
   "metadata": {},
   "outputs": [
    {
     "name": "stdout",
     "output_type": "stream",
     "text": [
      "www.mayoclinicproceedings.org\n",
      "www.sciencedirect.com\n",
      "www.ncbi.nlm.nih.gov\n",
      "www.internationaljournalofcardiology.com\n",
      "www.thelancet.com\n",
      "academic.oup.com\n",
      "www.ahajournals.org\n",
      "onlinelibrary.wiley.com\n",
      "journal.chestnet.org\n",
      "journals.physiology.org\n"
     ]
    }
   ],
   "source": [
    "sorted_items = sorted(results_dict.items(), key=lambda item: item[1]['failure_count'], reverse=True)\n",
    "top_10_items = sorted_items[:10]\n",
    "\n",
    "for domain, results in top_10_items:\n",
    "    print(f\"{domain}\")\n",
    "    #try_domain(domain, publications_by_domain)\n",
    "#try_domain(\"www.mayoclinicproceedings.org\", publications_by_domain)"
   ]
  },
  {
   "cell_type": "code",
   "execution_count": null,
   "metadata": {},
   "outputs": [
    {
     "ename": "KeyboardInterrupt",
     "evalue": "",
     "output_type": "error",
     "traceback": [
      "\u001b[1;31m---------------------------------------------------------------------------\u001b[0m",
      "\u001b[1;31mKeyboardInterrupt\u001b[0m                         Traceback (most recent call last)",
      "\u001b[1;32mc:\\Users\\dlind\\Projects\\masters-project\\backend\\notebooks\\cerg.ipynb Cell 16\u001b[0m line \u001b[0;36m1\n\u001b[1;32m----> <a href='vscode-notebook-cell:/c%3A/Users/dlind/Projects/masters-project/backend/notebooks/cerg.ipynb#X22sZmlsZQ%3D%3D?line=0'>1</a>\u001b[0m try_domain(\u001b[39m\"\u001b[39;49m\u001b[39mjournals.lww.com\u001b[39;49m\u001b[39m\"\u001b[39;49m, publications_by_domain)\n",
      "\u001b[1;32mc:\\Users\\dlind\\Projects\\masters-project\\backend\\notebooks\\cerg.ipynb Cell 16\u001b[0m line \u001b[0;36m3\n\u001b[0;32m      <a href='vscode-notebook-cell:/c%3A/Users/dlind/Projects/masters-project/backend/notebooks/cerg.ipynb#X22sZmlsZQ%3D%3D?line=0'>1</a>\u001b[0m \u001b[39mdef\u001b[39;00m \u001b[39mtry_domain\u001b[39m(domain, pub_by_domain):\n\u001b[0;32m      <a href='vscode-notebook-cell:/c%3A/Users/dlind/Projects/masters-project/backend/notebooks/cerg.ipynb#X22sZmlsZQ%3D%3D?line=1'>2</a>\u001b[0m     pubs \u001b[39m=\u001b[39m pub_by_domain[domain]\n\u001b[1;32m----> <a href='vscode-notebook-cell:/c%3A/Users/dlind/Projects/masters-project/backend/notebooks/cerg.ipynb#X22sZmlsZQ%3D%3D?line=2'>3</a>\u001b[0m     success_count, failed_links, corrupted_links \u001b[39m=\u001b[39m generate_pdfs2(domain, pubs)\n\u001b[0;32m      <a href='vscode-notebook-cell:/c%3A/Users/dlind/Projects/masters-project/backend/notebooks/cerg.ipynb#X22sZmlsZQ%3D%3D?line=4'>5</a>\u001b[0m     \u001b[39mreturn\u001b[39;00m {\n\u001b[0;32m      <a href='vscode-notebook-cell:/c%3A/Users/dlind/Projects/masters-project/backend/notebooks/cerg.ipynb#X22sZmlsZQ%3D%3D?line=5'>6</a>\u001b[0m         \u001b[39m'\u001b[39m\u001b[39msuccess_count\u001b[39m\u001b[39m'\u001b[39m: success_count,\n\u001b[0;32m      <a href='vscode-notebook-cell:/c%3A/Users/dlind/Projects/masters-project/backend/notebooks/cerg.ipynb#X22sZmlsZQ%3D%3D?line=6'>7</a>\u001b[0m         \u001b[39m'\u001b[39m\u001b[39mfailure_count\u001b[39m\u001b[39m'\u001b[39m: \u001b[39mlen\u001b[39m(failed_links),\n\u001b[1;32m   (...)\u001b[0m\n\u001b[0;32m     <a href='vscode-notebook-cell:/c%3A/Users/dlind/Projects/masters-project/backend/notebooks/cerg.ipynb#X22sZmlsZQ%3D%3D?line=9'>10</a>\u001b[0m         \u001b[39m'\u001b[39m\u001b[39mcorrupted_links\u001b[39m\u001b[39m'\u001b[39m: corrupted_links\n\u001b[0;32m     <a href='vscode-notebook-cell:/c%3A/Users/dlind/Projects/masters-project/backend/notebooks/cerg.ipynb#X22sZmlsZQ%3D%3D?line=10'>11</a>\u001b[0m     }\n",
      "\u001b[1;32mc:\\Users\\dlind\\Projects\\masters-project\\backend\\notebooks\\cerg.ipynb Cell 16\u001b[0m line \u001b[0;36m1\n\u001b[0;32m      <a href='vscode-notebook-cell:/c%3A/Users/dlind/Projects/masters-project/backend/notebooks/cerg.ipynb#X22sZmlsZQ%3D%3D?line=8'>9</a>\u001b[0m link \u001b[39m=\u001b[39m pub_object[\u001b[39m'\u001b[39m\u001b[39mlink\u001b[39m\u001b[39m'\u001b[39m]\n\u001b[0;32m     <a href='vscode-notebook-cell:/c%3A/Users/dlind/Projects/masters-project/backend/notebooks/cerg.ipynb#X22sZmlsZQ%3D%3D?line=9'>10</a>\u001b[0m pdf_links \u001b[39m=\u001b[39m []\n\u001b[1;32m---> <a href='vscode-notebook-cell:/c%3A/Users/dlind/Projects/masters-project/backend/notebooks/cerg.ipynb#X22sZmlsZQ%3D%3D?line=11'>12</a>\u001b[0m driver\u001b[39m.\u001b[39;49mget(link)\n\u001b[0;32m     <a href='vscode-notebook-cell:/c%3A/Users/dlind/Projects/masters-project/backend/notebooks/cerg.ipynb#X22sZmlsZQ%3D%3D?line=12'>13</a>\u001b[0m WebDriverWait(driver, \u001b[39m10\u001b[39m)\u001b[39m.\u001b[39muntil(EC\u001b[39m.\u001b[39mpresence_of_element_located((By\u001b[39m.\u001b[39mTAG_NAME, \u001b[39m'\u001b[39m\u001b[39mbody\u001b[39m\u001b[39m'\u001b[39m)))\n\u001b[0;32m     <a href='vscode-notebook-cell:/c%3A/Users/dlind/Projects/masters-project/backend/notebooks/cerg.ipynb#X22sZmlsZQ%3D%3D?line=14'>15</a>\u001b[0m cookie_buttons \u001b[39m=\u001b[39m driver\u001b[39m.\u001b[39mfind_elements(By\u001b[39m.\u001b[39mXPATH, \n\u001b[0;32m     <a href='vscode-notebook-cell:/c%3A/Users/dlind/Projects/masters-project/backend/notebooks/cerg.ipynb#X22sZmlsZQ%3D%3D?line=15'>16</a>\u001b[0m     \u001b[39m\"\u001b[39m\u001b[39m//button[\u001b[39m\u001b[39m\"\u001b[39m\n\u001b[0;32m     <a href='vscode-notebook-cell:/c%3A/Users/dlind/Projects/masters-project/backend/notebooks/cerg.ipynb#X22sZmlsZQ%3D%3D?line=16'>17</a>\u001b[0m         \u001b[39m\"\u001b[39m\u001b[39m(contains(translate(text(), \u001b[39m\u001b[39m'\u001b[39m\u001b[39mABCDEFGHIJKLMNOPQRSTUVWXYZ\u001b[39m\u001b[39m'\u001b[39m\u001b[39m, \u001b[39m\u001b[39m'\u001b[39m\u001b[39mabcdefghijklmnopqrstuvwxyz\u001b[39m\u001b[39m'\u001b[39m\u001b[39m), \u001b[39m\u001b[39m'\u001b[39m\u001b[39maccept\u001b[39m\u001b[39m'\u001b[39m\u001b[39m) and \u001b[39m\u001b[39m\"\u001b[39m\n\u001b[1;32m   (...)\u001b[0m\n\u001b[0;32m     <a href='vscode-notebook-cell:/c%3A/Users/dlind/Projects/masters-project/backend/notebooks/cerg.ipynb#X22sZmlsZQ%3D%3D?line=20'>21</a>\u001b[0m     \u001b[39m\"\u001b[39m\u001b[39m]\u001b[39m\u001b[39m\"\u001b[39m\n\u001b[0;32m     <a href='vscode-notebook-cell:/c%3A/Users/dlind/Projects/masters-project/backend/notebooks/cerg.ipynb#X22sZmlsZQ%3D%3D?line=21'>22</a>\u001b[0m )\n",
      "File \u001b[1;32mc:\\Users\\dlind\\anaconda3\\envs\\masters2\\lib\\site-packages\\selenium\\webdriver\\remote\\webdriver.py:353\u001b[0m, in \u001b[0;36mWebDriver.get\u001b[1;34m(self, url)\u001b[0m\n\u001b[0;32m    351\u001b[0m \u001b[39mdef\u001b[39;00m \u001b[39mget\u001b[39m(\u001b[39mself\u001b[39m, url: \u001b[39mstr\u001b[39m) \u001b[39m-\u001b[39m\u001b[39m>\u001b[39m \u001b[39mNone\u001b[39;00m:\n\u001b[0;32m    352\u001b[0m \u001b[39m    \u001b[39m\u001b[39m\"\"\"Loads a web page in the current browser session.\"\"\"\u001b[39;00m\n\u001b[1;32m--> 353\u001b[0m     \u001b[39mself\u001b[39;49m\u001b[39m.\u001b[39;49mexecute(Command\u001b[39m.\u001b[39;49mGET, {\u001b[39m\"\u001b[39;49m\u001b[39murl\u001b[39;49m\u001b[39m\"\u001b[39;49m: url})\n",
      "File \u001b[1;32mc:\\Users\\dlind\\anaconda3\\envs\\masters2\\lib\\site-packages\\selenium\\webdriver\\remote\\webdriver.py:342\u001b[0m, in \u001b[0;36mWebDriver.execute\u001b[1;34m(self, driver_command, params)\u001b[0m\n\u001b[0;32m    339\u001b[0m     \u001b[39melif\u001b[39;00m \u001b[39m\"\u001b[39m\u001b[39msessionId\u001b[39m\u001b[39m\"\u001b[39m \u001b[39mnot\u001b[39;00m \u001b[39min\u001b[39;00m params:\n\u001b[0;32m    340\u001b[0m         params[\u001b[39m\"\u001b[39m\u001b[39msessionId\u001b[39m\u001b[39m\"\u001b[39m] \u001b[39m=\u001b[39m \u001b[39mself\u001b[39m\u001b[39m.\u001b[39msession_id\n\u001b[1;32m--> 342\u001b[0m response \u001b[39m=\u001b[39m \u001b[39mself\u001b[39;49m\u001b[39m.\u001b[39;49mcommand_executor\u001b[39m.\u001b[39;49mexecute(driver_command, params)\n\u001b[0;32m    343\u001b[0m \u001b[39mif\u001b[39;00m response:\n\u001b[0;32m    344\u001b[0m     \u001b[39mself\u001b[39m\u001b[39m.\u001b[39merror_handler\u001b[39m.\u001b[39mcheck_response(response)\n",
      "File \u001b[1;32mc:\\Users\\dlind\\anaconda3\\envs\\masters2\\lib\\site-packages\\selenium\\webdriver\\remote\\remote_connection.py:297\u001b[0m, in \u001b[0;36mRemoteConnection.execute\u001b[1;34m(self, command, params)\u001b[0m\n\u001b[0;32m    295\u001b[0m data \u001b[39m=\u001b[39m utils\u001b[39m.\u001b[39mdump_json(params)\n\u001b[0;32m    296\u001b[0m url \u001b[39m=\u001b[39m \u001b[39mf\u001b[39m\u001b[39m\"\u001b[39m\u001b[39m{\u001b[39;00m\u001b[39mself\u001b[39m\u001b[39m.\u001b[39m_url\u001b[39m}\u001b[39;00m\u001b[39m{\u001b[39;00mpath\u001b[39m}\u001b[39;00m\u001b[39m\"\u001b[39m\n\u001b[1;32m--> 297\u001b[0m \u001b[39mreturn\u001b[39;00m \u001b[39mself\u001b[39;49m\u001b[39m.\u001b[39;49m_request(command_info[\u001b[39m0\u001b[39;49m], url, body\u001b[39m=\u001b[39;49mdata)\n",
      "File \u001b[1;32mc:\\Users\\dlind\\anaconda3\\envs\\masters2\\lib\\site-packages\\selenium\\webdriver\\remote\\remote_connection.py:318\u001b[0m, in \u001b[0;36mRemoteConnection._request\u001b[1;34m(self, method, url, body)\u001b[0m\n\u001b[0;32m    315\u001b[0m     body \u001b[39m=\u001b[39m \u001b[39mNone\u001b[39;00m\n\u001b[0;32m    317\u001b[0m \u001b[39mif\u001b[39;00m \u001b[39mself\u001b[39m\u001b[39m.\u001b[39mkeep_alive:\n\u001b[1;32m--> 318\u001b[0m     response \u001b[39m=\u001b[39m \u001b[39mself\u001b[39;49m\u001b[39m.\u001b[39;49m_conn\u001b[39m.\u001b[39;49mrequest(method, url, body\u001b[39m=\u001b[39;49mbody, headers\u001b[39m=\u001b[39;49mheaders)\n\u001b[0;32m    319\u001b[0m     statuscode \u001b[39m=\u001b[39m response\u001b[39m.\u001b[39mstatus\n\u001b[0;32m    320\u001b[0m \u001b[39melse\u001b[39;00m:\n",
      "File \u001b[1;32mc:\\Users\\dlind\\anaconda3\\envs\\masters2\\lib\\site-packages\\urllib3\\request.py:78\u001b[0m, in \u001b[0;36mRequestMethods.request\u001b[1;34m(self, method, url, fields, headers, **urlopen_kw)\u001b[0m\n\u001b[0;32m     74\u001b[0m     \u001b[39mreturn\u001b[39;00m \u001b[39mself\u001b[39m\u001b[39m.\u001b[39mrequest_encode_url(\n\u001b[0;32m     75\u001b[0m         method, url, fields\u001b[39m=\u001b[39mfields, headers\u001b[39m=\u001b[39mheaders, \u001b[39m*\u001b[39m\u001b[39m*\u001b[39murlopen_kw\n\u001b[0;32m     76\u001b[0m     )\n\u001b[0;32m     77\u001b[0m \u001b[39melse\u001b[39;00m:\n\u001b[1;32m---> 78\u001b[0m     \u001b[39mreturn\u001b[39;00m \u001b[39mself\u001b[39m\u001b[39m.\u001b[39mrequest_encode_body(\n\u001b[0;32m     79\u001b[0m         method, url, fields\u001b[39m=\u001b[39mfields, headers\u001b[39m=\u001b[39mheaders, \u001b[39m*\u001b[39m\u001b[39m*\u001b[39murlopen_kw\n\u001b[0;32m     80\u001b[0m     )\n",
      "File \u001b[1;32mc:\\Users\\dlind\\anaconda3\\envs\\masters2\\lib\\site-packages\\urllib3\\request.py:170\u001b[0m, in \u001b[0;36mRequestMethods.request_encode_body\u001b[1;34m(self, method, url, fields, headers, encode_multipart, multipart_boundary, **urlopen_kw)\u001b[0m\n\u001b[0;32m    167\u001b[0m extra_kw[\u001b[39m\"\u001b[39m\u001b[39mheaders\u001b[39m\u001b[39m\"\u001b[39m]\u001b[39m.\u001b[39mupdate(headers)\n\u001b[0;32m    168\u001b[0m extra_kw\u001b[39m.\u001b[39mupdate(urlopen_kw)\n\u001b[1;32m--> 170\u001b[0m \u001b[39mreturn\u001b[39;00m \u001b[39mself\u001b[39m\u001b[39m.\u001b[39murlopen(method, url, \u001b[39m*\u001b[39m\u001b[39m*\u001b[39mextra_kw)\n",
      "File \u001b[1;32mc:\\Users\\dlind\\anaconda3\\envs\\masters2\\lib\\site-packages\\urllib3\\poolmanager.py:376\u001b[0m, in \u001b[0;36mPoolManager.urlopen\u001b[1;34m(self, method, url, redirect, **kw)\u001b[0m\n\u001b[0;32m    374\u001b[0m     response \u001b[39m=\u001b[39m conn\u001b[39m.\u001b[39murlopen(method, url, \u001b[39m*\u001b[39m\u001b[39m*\u001b[39mkw)\n\u001b[0;32m    375\u001b[0m \u001b[39melse\u001b[39;00m:\n\u001b[1;32m--> 376\u001b[0m     response \u001b[39m=\u001b[39m conn\u001b[39m.\u001b[39murlopen(method, u\u001b[39m.\u001b[39mrequest_uri, \u001b[39m*\u001b[39m\u001b[39m*\u001b[39mkw)\n\u001b[0;32m    378\u001b[0m redirect_location \u001b[39m=\u001b[39m redirect \u001b[39mand\u001b[39;00m response\u001b[39m.\u001b[39mget_redirect_location()\n\u001b[0;32m    379\u001b[0m \u001b[39mif\u001b[39;00m \u001b[39mnot\u001b[39;00m redirect_location:\n",
      "File \u001b[1;32mc:\\Users\\dlind\\anaconda3\\envs\\masters2\\lib\\site-packages\\urllib3\\connectionpool.py:714\u001b[0m, in \u001b[0;36mHTTPConnectionPool.urlopen\u001b[1;34m(self, method, url, body, headers, retries, redirect, assert_same_host, timeout, pool_timeout, release_conn, chunked, body_pos, **response_kw)\u001b[0m\n\u001b[0;32m    711\u001b[0m     \u001b[39mself\u001b[39m\u001b[39m.\u001b[39m_prepare_proxy(conn)\n\u001b[0;32m    713\u001b[0m \u001b[39m# Make the request on the httplib connection object.\u001b[39;00m\n\u001b[1;32m--> 714\u001b[0m httplib_response \u001b[39m=\u001b[39m \u001b[39mself\u001b[39;49m\u001b[39m.\u001b[39;49m_make_request(\n\u001b[0;32m    715\u001b[0m     conn,\n\u001b[0;32m    716\u001b[0m     method,\n\u001b[0;32m    717\u001b[0m     url,\n\u001b[0;32m    718\u001b[0m     timeout\u001b[39m=\u001b[39;49mtimeout_obj,\n\u001b[0;32m    719\u001b[0m     body\u001b[39m=\u001b[39;49mbody,\n\u001b[0;32m    720\u001b[0m     headers\u001b[39m=\u001b[39;49mheaders,\n\u001b[0;32m    721\u001b[0m     chunked\u001b[39m=\u001b[39;49mchunked,\n\u001b[0;32m    722\u001b[0m )\n\u001b[0;32m    724\u001b[0m \u001b[39m# If we're going to release the connection in ``finally:``, then\u001b[39;00m\n\u001b[0;32m    725\u001b[0m \u001b[39m# the response doesn't need to know about the connection. Otherwise\u001b[39;00m\n\u001b[0;32m    726\u001b[0m \u001b[39m# it will also try to release it and we'll have a double-release\u001b[39;00m\n\u001b[0;32m    727\u001b[0m \u001b[39m# mess.\u001b[39;00m\n\u001b[0;32m    728\u001b[0m response_conn \u001b[39m=\u001b[39m conn \u001b[39mif\u001b[39;00m \u001b[39mnot\u001b[39;00m release_conn \u001b[39melse\u001b[39;00m \u001b[39mNone\u001b[39;00m\n",
      "File \u001b[1;32mc:\\Users\\dlind\\anaconda3\\envs\\masters2\\lib\\site-packages\\urllib3\\connectionpool.py:466\u001b[0m, in \u001b[0;36mHTTPConnectionPool._make_request\u001b[1;34m(self, conn, method, url, timeout, chunked, **httplib_request_kw)\u001b[0m\n\u001b[0;32m    461\u001b[0m             httplib_response \u001b[39m=\u001b[39m conn\u001b[39m.\u001b[39mgetresponse()\n\u001b[0;32m    462\u001b[0m         \u001b[39mexcept\u001b[39;00m \u001b[39mBaseException\u001b[39;00m \u001b[39mas\u001b[39;00m e:\n\u001b[0;32m    463\u001b[0m             \u001b[39m# Remove the TypeError from the exception chain in\u001b[39;00m\n\u001b[0;32m    464\u001b[0m             \u001b[39m# Python 3 (including for exceptions like SystemExit).\u001b[39;00m\n\u001b[0;32m    465\u001b[0m             \u001b[39m# Otherwise it looks like a bug in the code.\u001b[39;00m\n\u001b[1;32m--> 466\u001b[0m             six\u001b[39m.\u001b[39;49mraise_from(e, \u001b[39mNone\u001b[39;49;00m)\n\u001b[0;32m    467\u001b[0m \u001b[39mexcept\u001b[39;00m (SocketTimeout, BaseSSLError, SocketError) \u001b[39mas\u001b[39;00m e:\n\u001b[0;32m    468\u001b[0m     \u001b[39mself\u001b[39m\u001b[39m.\u001b[39m_raise_timeout(err\u001b[39m=\u001b[39me, url\u001b[39m=\u001b[39murl, timeout_value\u001b[39m=\u001b[39mread_timeout)\n",
      "File \u001b[1;32m<string>:3\u001b[0m, in \u001b[0;36mraise_from\u001b[1;34m(value, from_value)\u001b[0m\n",
      "File \u001b[1;32mc:\\Users\\dlind\\anaconda3\\envs\\masters2\\lib\\site-packages\\urllib3\\connectionpool.py:461\u001b[0m, in \u001b[0;36mHTTPConnectionPool._make_request\u001b[1;34m(self, conn, method, url, timeout, chunked, **httplib_request_kw)\u001b[0m\n\u001b[0;32m    458\u001b[0m \u001b[39mexcept\u001b[39;00m \u001b[39mTypeError\u001b[39;00m:\n\u001b[0;32m    459\u001b[0m     \u001b[39m# Python 3\u001b[39;00m\n\u001b[0;32m    460\u001b[0m     \u001b[39mtry\u001b[39;00m:\n\u001b[1;32m--> 461\u001b[0m         httplib_response \u001b[39m=\u001b[39m conn\u001b[39m.\u001b[39;49mgetresponse()\n\u001b[0;32m    462\u001b[0m     \u001b[39mexcept\u001b[39;00m \u001b[39mBaseException\u001b[39;00m \u001b[39mas\u001b[39;00m e:\n\u001b[0;32m    463\u001b[0m         \u001b[39m# Remove the TypeError from the exception chain in\u001b[39;00m\n\u001b[0;32m    464\u001b[0m         \u001b[39m# Python 3 (including for exceptions like SystemExit).\u001b[39;00m\n\u001b[0;32m    465\u001b[0m         \u001b[39m# Otherwise it looks like a bug in the code.\u001b[39;00m\n\u001b[0;32m    466\u001b[0m         six\u001b[39m.\u001b[39mraise_from(e, \u001b[39mNone\u001b[39;00m)\n",
      "File \u001b[1;32mc:\\Users\\dlind\\anaconda3\\envs\\masters2\\lib\\http\\client.py:1375\u001b[0m, in \u001b[0;36mHTTPConnection.getresponse\u001b[1;34m(self)\u001b[0m\n\u001b[0;32m   1373\u001b[0m \u001b[39mtry\u001b[39;00m:\n\u001b[0;32m   1374\u001b[0m     \u001b[39mtry\u001b[39;00m:\n\u001b[1;32m-> 1375\u001b[0m         response\u001b[39m.\u001b[39;49mbegin()\n\u001b[0;32m   1376\u001b[0m     \u001b[39mexcept\u001b[39;00m \u001b[39mConnectionError\u001b[39;00m:\n\u001b[0;32m   1377\u001b[0m         \u001b[39mself\u001b[39m\u001b[39m.\u001b[39mclose()\n",
      "File \u001b[1;32mc:\\Users\\dlind\\anaconda3\\envs\\masters2\\lib\\http\\client.py:318\u001b[0m, in \u001b[0;36mHTTPResponse.begin\u001b[1;34m(self)\u001b[0m\n\u001b[0;32m    316\u001b[0m \u001b[39m# read until we get a non-100 response\u001b[39;00m\n\u001b[0;32m    317\u001b[0m \u001b[39mwhile\u001b[39;00m \u001b[39mTrue\u001b[39;00m:\n\u001b[1;32m--> 318\u001b[0m     version, status, reason \u001b[39m=\u001b[39m \u001b[39mself\u001b[39;49m\u001b[39m.\u001b[39;49m_read_status()\n\u001b[0;32m    319\u001b[0m     \u001b[39mif\u001b[39;00m status \u001b[39m!=\u001b[39m CONTINUE:\n\u001b[0;32m    320\u001b[0m         \u001b[39mbreak\u001b[39;00m\n",
      "File \u001b[1;32mc:\\Users\\dlind\\anaconda3\\envs\\masters2\\lib\\http\\client.py:279\u001b[0m, in \u001b[0;36mHTTPResponse._read_status\u001b[1;34m(self)\u001b[0m\n\u001b[0;32m    278\u001b[0m \u001b[39mdef\u001b[39;00m \u001b[39m_read_status\u001b[39m(\u001b[39mself\u001b[39m):\n\u001b[1;32m--> 279\u001b[0m     line \u001b[39m=\u001b[39m \u001b[39mstr\u001b[39m(\u001b[39mself\u001b[39;49m\u001b[39m.\u001b[39;49mfp\u001b[39m.\u001b[39;49mreadline(_MAXLINE \u001b[39m+\u001b[39;49m \u001b[39m1\u001b[39;49m), \u001b[39m\"\u001b[39m\u001b[39miso-8859-1\u001b[39m\u001b[39m\"\u001b[39m)\n\u001b[0;32m    280\u001b[0m     \u001b[39mif\u001b[39;00m \u001b[39mlen\u001b[39m(line) \u001b[39m>\u001b[39m _MAXLINE:\n\u001b[0;32m    281\u001b[0m         \u001b[39mraise\u001b[39;00m LineTooLong(\u001b[39m\"\u001b[39m\u001b[39mstatus line\u001b[39m\u001b[39m\"\u001b[39m)\n",
      "File \u001b[1;32mc:\\Users\\dlind\\anaconda3\\envs\\masters2\\lib\\socket.py:705\u001b[0m, in \u001b[0;36mSocketIO.readinto\u001b[1;34m(self, b)\u001b[0m\n\u001b[0;32m    703\u001b[0m \u001b[39mwhile\u001b[39;00m \u001b[39mTrue\u001b[39;00m:\n\u001b[0;32m    704\u001b[0m     \u001b[39mtry\u001b[39;00m:\n\u001b[1;32m--> 705\u001b[0m         \u001b[39mreturn\u001b[39;00m \u001b[39mself\u001b[39;49m\u001b[39m.\u001b[39;49m_sock\u001b[39m.\u001b[39;49mrecv_into(b)\n\u001b[0;32m    706\u001b[0m     \u001b[39mexcept\u001b[39;00m timeout:\n\u001b[0;32m    707\u001b[0m         \u001b[39mself\u001b[39m\u001b[39m.\u001b[39m_timeout_occurred \u001b[39m=\u001b[39m \u001b[39mTrue\u001b[39;00m\n",
      "\u001b[1;31mKeyboardInterrupt\u001b[0m: "
     ]
    }
   ],
   "source": [
    "try_domain(\"journals.lww.com\", publications_by_domain)"
   ]
  }
 ],
 "metadata": {
  "kernelspec": {
   "display_name": "masters2",
   "language": "python",
   "name": "python3"
  },
  "language_info": {
   "codemirror_mode": {
    "name": "ipython",
    "version": 3
   },
   "file_extension": ".py",
   "mimetype": "text/x-python",
   "name": "python",
   "nbconvert_exporter": "python",
   "pygments_lexer": "ipython3",
   "version": "3.10.13"
  },
  "orig_nbformat": 4
 },
 "nbformat": 4,
 "nbformat_minor": 2
}
