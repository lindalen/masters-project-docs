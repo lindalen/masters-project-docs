{
 "cells": [
  {
   "cell_type": "code",
   "execution_count": 1,
   "metadata": {},
   "outputs": [],
   "source": [
    "import os\n",
    "import re\n",
    "import glob\n",
    "import fitz\n",
    "import pdfkit\n",
    "import requests\n",
    "import hashlib\n",
    "import multiprocessing\n",
    "from bs4 import BeautifulSoup\n",
    "from urllib.parse import urlparse\n",
    "from deep_translator import GoogleTranslator\n",
    "from concurrent.futures import ThreadPoolExecutor, as_completed"
   ]
  },
  {
   "cell_type": "code",
   "execution_count": 2,
   "metadata": {},
   "outputs": [],
   "source": [
    "def generate_hash(url):\n",
    "    \"\"\"\n",
    "    Generate a hash from the URL to ensure uniqueness.\n",
    "    \"\"\"\n",
    "    return hashlib.md5(url.encode()).hexdigest()"
   ]
  },
  {
   "cell_type": "code",
   "execution_count": 3,
   "metadata": {},
   "outputs": [],
   "source": [
    "url = \"https://www.ntnu.no/cerg/media\"\n",
    "\n",
    "os.makedirs('../../data/articles', exist_ok=True)\n",
    "\n",
    "path_wkhtmltopdf = 'C:/Program Files/wkhtmltopdf/bin/wkhtmltopdf.exe'\n",
    "config = pdfkit.configuration(wkhtmltopdf=path_wkhtmltopdf)"
   ]
  },
  {
   "cell_type": "code",
   "execution_count": 4,
   "metadata": {},
   "outputs": [
    {
     "name": "stdout",
     "output_type": "stream",
     "text": [
      "A total of 192 articles found.\n"
     ]
    }
   ],
   "source": [
    "articles = []\n",
    "\n",
    "response = requests.get(url)\n",
    "response.raise_for_status()\n",
    "\n",
    "soup = BeautifulSoup(response.text, 'html.parser')\n",
    "\n",
    "def is_readable_article(tag):\n",
    "    return tag.name == 'a' and tag.get_text(strip=True) == 'Les saken'\n",
    "\n",
    "a_tags = soup.find_all(is_readable_article)\n",
    "\n",
    "for a_tag in a_tags:\n",
    "    link = a_tag['href']\n",
    "    \n",
    "    article = {\n",
    "        'link': link,\n",
    "    }\n",
    "\n",
    "    articles.append(article)\n",
    "    \n",
    "print(f\"A total of {len(articles)} articles found.\")"
   ]
  },
  {
   "attachments": {},
   "cell_type": "markdown",
   "metadata": {},
   "source": [
    "### Filter out bad domains"
   ]
  },
  {
   "cell_type": "code",
   "execution_count": 5,
   "metadata": {},
   "outputs": [
    {
     "name": "stdout",
     "output_type": "stream",
     "text": [
      "167 articles left after removing paid domains.\n"
     ]
    },
    {
     "data": {
      "text/plain": [
       "{'link': 'https://www.ringsaker-blad.no/steins-ukentlige-trim-skal-gi-legene-svar/s/5-79-715948'}"
      ]
     },
     "execution_count": 5,
     "metadata": {},
     "output_type": "execute_result"
    }
   ],
   "source": [
    "paywalled_domains = [\"dagbladet.no\", \"bodymag.no\", \"aftenposten.no\", \"adressa.no\", \"vg.no\", \"tronderbladet.no\", \"kk.no\", \"reuters.com\", \"msn.com\", \"vi.no\", \"tv2.no\", \"fosna-folket.no\", \"wsj.com\", \"https://www.steinkjer-avisa.no/\", \"https://www.innherred.no/\", \"https://www.diabetesqld.org.au/\"] # paywall\n",
    "\n",
    "articles = [article for article in articles if not any(domain in article['link'] for domain in paywalled_domains)]\n",
    "\n",
    "print(f\"{len(articles)} articles left after removing paid domains.\")\n",
    "articles[0]"
   ]
  },
  {
   "cell_type": "code",
   "execution_count": 6,
   "metadata": {},
   "outputs": [],
   "source": [
    "import os\n",
    "from urllib.parse import urlparse\n",
    "from trafilatura import fetch_url, extract\n",
    "\n",
    "# Assuming 'articles' is a list of dictionaries, each with a \"link\" attribute\n",
    "for article in articles:\n",
    "    url = article[\"link\"]\n",
    "    # Parse the domain and set target language based on the domain\n",
    "    domain = urlparse(url).netloc\n",
    "    target_language = \"no\" if domain.endswith(\".no\") else None\n",
    "\n",
    "    # Fetch and extract article text\n",
    "    downloaded = fetch_url(url)\n",
    "    result = extract(downloaded, url, target_language=target_language)\n",
    "\n",
    "    # Create the directory if it doesn't exist\n",
    "    os.makedirs('../../data/media_text', exist_ok=True)\n",
    "\n",
    "    # Generate the filename\n",
    "    hash_part = generate_hash(url)\n",
    "    filename = f'../../data/media_text/{domain}_{hash_part}.txt'\n",
    "    \n",
    "    if result:\n",
    "        with open(filename, 'w', encoding='utf-8') as file:\n",
    "            file.write(result or 'No text extracted')"
   ]
  },
  {
   "cell_type": "markdown",
   "metadata": {},
   "source": [
    "### Translation"
   ]
  },
  {
   "cell_type": "code",
   "execution_count": 7,
   "metadata": {},
   "outputs": [],
   "source": [
    "import os\n",
    "import glob\n",
    "from deep_translator import GoogleTranslator\n",
    "\n",
    "class FileTranslator:\n",
    "    def __init__(self, input_directory, output_directory, source_language='no', target_language='en'):\n",
    "        self.input_directory = input_directory\n",
    "        self.output_directory = output_directory\n",
    "        self.source_language = source_language\n",
    "        self.target_language = target_language\n",
    "\n",
    "        os.makedirs(output_directory, exist_ok=True)\n",
    "\n",
    "    def translate_text(self, text):\n",
    "        # Split text into chunks of 4900 characters\n",
    "        text_chunks = [text[i:i+4900] for i in range(0, len(text), 4900)]\n",
    "        translated_chunks = []\n",
    "\n",
    "        for chunk in text_chunks:\n",
    "            translated_chunk = GoogleTranslator(source=self.source_language, target=self.target_language).translate(chunk)\n",
    "            translated_chunks.append(translated_chunk)\n",
    "\n",
    "        # Join translated chunks back together\n",
    "        translated_text = ' '.join(translated_chunks)\n",
    "        return translated_text\n",
    "\n",
    "    def translate_file(self, input_file_path):\n",
    "        output_file_name = os.path.basename(input_file_path)\n",
    "        output_file_path = os.path.join(self.output_directory, output_file_name)\n",
    "\n",
    "        with open(input_file_path, 'r', encoding='utf-8') as file:\n",
    "            text = file.read()\n",
    "\n",
    "        # Check if the file name contains \".no\"\n",
    "        if '.no' in output_file_name:\n",
    "            translated_text = self.translate_text(text)\n",
    "        else:\n",
    "            translated_text = text  # No translation, just use the original text\n",
    "\n",
    "        with open(output_file_path, 'w', encoding='utf-8') as file:\n",
    "            file.write(translated_text)\n",
    "\n",
    "    def process_files(self):\n",
    "        input_files = glob.glob(os.path.join(self.input_directory, '*.txt'))\n",
    "\n",
    "        for input_file in input_files:\n",
    "            self.translate_file(input_file)\n"
   ]
  },
  {
   "cell_type": "code",
   "execution_count": 8,
   "metadata": {},
   "outputs": [],
   "source": [
    "input_directory = '../../data/media_text/'\n",
    "output_directory = '../../data/media_texts_translated/'\n",
    "file_translator = FileTranslator(input_directory, output_directory)\n",
    "file_translator.process_files()"
   ]
  }
 ],
 "metadata": {
  "kernelspec": {
   "display_name": "masters2",
   "language": "python",
   "name": "python3"
  },
  "language_info": {
   "codemirror_mode": {
    "name": "ipython",
    "version": 3
   },
   "file_extension": ".py",
   "mimetype": "text/x-python",
   "name": "python",
   "nbconvert_exporter": "python",
   "pygments_lexer": "ipython3",
   "version": "3.10.13"
  },
  "orig_nbformat": 4
 },
 "nbformat": 4,
 "nbformat_minor": 2
}
